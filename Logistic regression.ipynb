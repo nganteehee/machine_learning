{
 "cells": [
  {
   "cell_type": "code",
   "execution_count": 1,
   "metadata": {},
   "outputs": [],
   "source": [
    "import numpy as np\n",
    "import pandas as pd\n",
    "import warnings \n",
    "import matplotlib.pyplot as plt\n",
    "warnings.filterwarnings('ignore')"
   ]
  },
  {
   "cell_type": "code",
   "execution_count": 2,
   "metadata": {},
   "outputs": [],
   "source": [
    "#sigmoid function\n",
    "def sigmoid(x):\n",
    "    h = 1/(1+np.exp(-x))\n",
    "    return h"
   ]
  },
  {
   "cell_type": "code",
   "execution_count": 27,
   "metadata": {},
   "outputs": [],
   "source": [
    "def gradient_descent(X, y, theta, iter_nums, alpha, verbose=False):\n",
    "    '''\n",
    "    input:\n",
    "    X: matrix input (m, n+1)\n",
    "    y: label output vector (m, 1)\n",
    "    theta: weight (n+1, 1)\n",
    "    alpha: learning rate\n",
    "    '''\n",
    "    m = X.shape[0]\n",
    "    for i in range(iter_nums):\n",
    "        #ham logistic\n",
    "        h = sigmoid(np.dot(X, theta))\n",
    "        #Cost function\n",
    "        J = -1/m * (np.dot(y.T, np.log(h))+np.dot((1-y).T, np.log(1-h)))\n",
    "        #update gradient\n",
    "        theta = theta - alpha/m*(np.dot(X.T, (h-y)))\n",
    "        if verbose and i%100==0:\n",
    "            print(f\"the cost at loop {i} is {float(J):.8f}\")\n",
    "            print(f\"the corresponding weight is {[round(t, 8) for t in np.squeeze(theta)]} \")\n",
    "    return J, theta\n",
    "\n",
    "    "
   ]
  },
  {
   "cell_type": "code",
   "execution_count": 23,
   "metadata": {},
   "outputs": [
    {
     "name": "stdout",
     "output_type": "stream",
     "text": [
      "Feature name ['sepal length (cm)', 'sepal width (cm)', 'petal length (cm)', 'petal width (cm)']\n",
      "Label name: ['setosa' 'versicolor' 'virginica']\n"
     ]
    }
   ],
   "source": [
    "#training model\n",
    "from sklearn import datasets\n",
    "iris = datasets.load_iris()\n",
    "print(f\"Feature name {iris['feature_names']}\")\n",
    "print(f\"Label name: {iris['target_names']}\")\n",
    "#petal width feature\n",
    "X = iris['data'][:, 3:]\n",
    "y = (iris['target']==2).astype(int)"
   ]
  },
  {
   "cell_type": "code",
   "execution_count": 29,
   "metadata": {},
   "outputs": [
    {
     "name": "stdout",
     "output_type": "stream",
     "text": [
      "the cost at loop 0 is 0.98598725\n",
      "the corresponding weight is [0.14300946, 0.76888329] \n",
      "the cost at loop 100 is 0.29144065\n",
      "the corresponding weight is [-3.54407475, 2.20761718] \n",
      "the cost at loop 200 is 0.23629106\n",
      "the corresponding weight is [-4.9469312, 3.05622182] \n",
      "the cost at loop 300 is 0.20971306\n",
      "the corresponding weight is [-5.92919089, 3.64817334] \n",
      "the cost at loop 400 is 0.19302536\n",
      "the corresponding weight is [-6.70893281, 4.11858305] \n"
     ]
    }
   ],
   "source": [
    "np.random.seed(42)\n",
    "m = X.shape[0]\n",
    "n = X.shape[1]\n",
    "#bias\n",
    "X0 = np.ones((m, 1))\n",
    "theta = np.random.rand(n+1, 1)\n",
    "alpha = 0.5\n",
    "num_iters = 500\n",
    "y_train = y.reshape(m, 1)\n",
    "X_train = np.c_[X0, X]\n",
    "J, theta = gradient_descent(X_train, y_train, theta, num_iters, alpha, verbose=True)"
   ]
  },
  {
   "cell_type": "code",
   "execution_count": 20,
   "metadata": {},
   "outputs": [
    {
     "data": {
      "text/plain": [
       "(150, 1)"
      ]
     },
     "execution_count": 20,
     "metadata": {},
     "output_type": "execute_result"
    }
   ],
   "source": [
    "iris['data'][:, 3:].shape"
   ]
  },
  {
   "cell_type": "code",
   "execution_count": 46,
   "metadata": {},
   "outputs": [],
   "source": [
    "#test model\n",
    "def predict(X, theta, threshold):\n",
    "    '''\n",
    "    Input:\n",
    "    X: input matrix (m, n+1)\n",
    "    theta: weight (n+1, 1)\n",
    "    threshold: rate of sigmoid function to decide the class (1, 0) the sample belong to\n",
    "    '''\n",
    "\n",
    "    h = sigmoid(np.dot(X, theta))\n",
    "    predict_binary = (h>= threshold).astype(int)\n",
    "    return h, predict_binary\n",
    "\n"
   ]
  },
  {
   "cell_type": "code",
   "execution_count": 47,
   "metadata": {},
   "outputs": [],
   "source": [
    "num = 1000\n",
    "X_gen = np.linspace(0, 3, num).reshape(-1, 1)\n",
    "X_test = np.c_[np.ones((num, 1)), X_gen]\n",
    "predict_prob, predict_binary = predict(X_test, theta, 0.5) \n",
    "\n"
   ]
  },
  {
   "cell_type": "code",
   "execution_count": null,
   "metadata": {},
   "outputs": [
    {
     "data": {
      "text/plain": [
       "(1000, 1)"
      ]
     },
     "execution_count": 39,
     "metadata": {},
     "output_type": "execute_result"
    }
   ],
   "source": []
  },
  {
   "cell_type": "code",
   "execution_count": null,
   "metadata": {},
   "outputs": [],
   "source": []
  }
 ],
 "metadata": {
  "kernelspec": {
   "display_name": "test_env",
   "language": "python",
   "name": "python3"
  },
  "language_info": {
   "codemirror_mode": {
    "name": "ipython",
    "version": 3
   },
   "file_extension": ".py",
   "mimetype": "text/x-python",
   "name": "python",
   "nbconvert_exporter": "python",
   "pygments_lexer": "ipython3",
   "version": "3.12.7"
  }
 },
 "nbformat": 4,
 "nbformat_minor": 2
}
